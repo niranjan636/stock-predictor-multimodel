{
  "cells": [
    {
      "cell_type": "markdown",
      "metadata": {},
      "source": [
        "# Notebook"
      ]
    },
    {
      "cell_type": "code",
      "metadata": {},
      "execution_count": null,
      "outputs": [],
      "source": [
        "import sys, pathlib\n",
        "from datetime import date, timedelta\n",
        "from src.data import get_data\n",
        "from src.features import make_features, train_test_split_time\n",
        "from src.model import train_model, evaluate, forecast_next_days\n",
        "ticker='AAPL'; start=date.today()-timedelta(days=365*5); end=date.today();\n",
        "raw=get_data(ticker,start,end); feats=make_features(raw); tr,te=train_test_split_time(feats,0.2); m,cols,kind=train_model('RandomForest',tr); evaluate(m,cols,te,kind)"
      ]
    }
  ],
  "metadata": {
    "kernelspec": {
      "display_name": "Python 3",
      "language": "python",
      "name": "python3"
    }
  },
  "nbformat": 4,
  "nbformat_minor": 5
}